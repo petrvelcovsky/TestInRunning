{
 "cells": [
  {
   "cell_type": "code",
   "execution_count": 7,
   "metadata": {},
   "outputs": [],
   "source": [
    "import numpy as np\n",
    "import cv2 as cv\n",
    "import time"
   ]
  },
  {
   "cell_type": "code",
   "execution_count": 8,
   "metadata": {},
   "outputs": [
    {
     "name": "stdout",
     "output_type": "stream",
     "text": [
      "Načtení: 0.00439453125\n",
      "Převod na šedou: 0.000993967056274414\n"
     ]
    }
   ],
   "source": [
    "filename = 'chessboard.png'\n",
    "start_total = time.time()\n",
    "\n",
    "#load picture\n",
    "start = time.time()\n",
    "img = cv.imread(filename)\n",
    "print(\"Načtení:\", time.time() - start)\n",
    "\n",
    "#transform to gray\n",
    "start = time.time()\n",
    "gray = cv.cvtColor(img,cv.COLOR_BGR2GRAY)\n",
    "print(\"Převod na šedou:\", time.time() - start)"
   ]
  },
  {
   "cell_type": "code",
   "execution_count": 9,
   "metadata": {},
   "outputs": [
    {
     "name": "stdout",
     "output_type": "stream",
     "text": [
      "cornerHarris: 0.0073664188385009766\n"
     ]
    }
   ],
   "source": [
    "# Harris Corner Detection\n",
    "start = time.time()\n",
    "gray = np.float32(gray)\n",
    "dst = cv.cornerHarris(gray,2,3,0.04)\n",
    "print(\"cornerHarris:\", time.time() - start)"
   ]
  },
  {
   "cell_type": "code",
   "execution_count": 10,
   "metadata": {},
   "outputs": [
    {
     "name": "stdout",
     "output_type": "stream",
     "text": [
      "Dilatace: 0.0018641948699951172\n"
     ]
    }
   ],
   "source": [
    "#result is dilated for marking the corners, not important\n",
    "\n",
    "# dilatation\n",
    "start = time.time()\n",
    "dst = cv.dilate(dst, None)\n",
    "print(\"Dilatace:\", time.time() - start)"
   ]
  },
  {
   "cell_type": "code",
   "execution_count": 11,
   "metadata": {},
   "outputs": [
    {
     "name": "stdout",
     "output_type": "stream",
     "text": [
      "Označení rohů: 0.0021452903747558594\n",
      "Celkový čas: 0.04406309127807617\n"
     ]
    }
   ],
   "source": [
    "#treshold for an optimal value, it may vary depending on the image\n",
    "start = time.time()\n",
    "img[dst>0.01*dst.max()] = [0,0,255]\n",
    "print(\"Označení rohů:\", time.time() - start)\n",
    "\n",
    "# Celkový čas\n",
    "print(\"Celkový čas:\", time.time() - start_total)"
   ]
  },
  {
   "cell_type": "code",
   "execution_count": 12,
   "metadata": {},
   "outputs": [],
   "source": [
    "cv.imshow('dst', img)\n",
    "\n",
    "if cv.waitKey(0) & 0xff == 27:\n",
    "    cv.destroyAllWindows()\n"
   ]
  }
 ],
 "metadata": {
  "kernelspec": {
   "display_name": "2gzav-env",
   "language": "python",
   "name": "python3"
  },
  "language_info": {
   "codemirror_mode": {
    "name": "ipython",
    "version": 3
   },
   "file_extension": ".py",
   "mimetype": "text/x-python",
   "name": "python",
   "nbconvert_exporter": "python",
   "pygments_lexer": "ipython3",
   "version": "3.12.9"
  }
 },
 "nbformat": 4,
 "nbformat_minor": 2
}
